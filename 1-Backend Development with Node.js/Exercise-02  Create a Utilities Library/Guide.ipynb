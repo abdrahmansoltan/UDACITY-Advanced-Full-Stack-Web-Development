{
 "cells": [
  {
   "cell_type": "markdown",
   "metadata": {
    "editable": true
   },
   "source": [
    "# Instructions\n",
    "\n",
    "You will see two files already created for you. Your `index.js` file and a file called `sample.js`. The `sample.js` file contains four javascript functions to work with arrays. \n",
    "\n",
    "Create a `utilities` folder with two separate files and distribute the functions through these 2 files. \n",
    "\n",
    "Import the functions into the main index and use two different methods for calling those functions. \n",
    "\n",
    "Then call the functions using arrays of your choice and log the result to the console.\n",
    "\n",
    "Make sure to run your `index.js` file to make certain that all of your modules work."
   ]
  }
 ],
 "metadata": {
  "kernelspec": {
   "display_name": "Python 3",
   "language": "python",
   "name": "python3"
  },
  "language_info": {
   "codemirror_mode": {
    "name": "ipython",
    "version": 3
   },
   "file_extension": ".py",
   "mimetype": "text/x-python",
   "name": "python",
   "nbconvert_exporter": "python",
   "pygments_lexer": "ipython3",
   "version": "3.6.3"
  },
  "ulab_nb_type": "guided"
 },
 "nbformat": 4,
 "nbformat_minor": 4
}
