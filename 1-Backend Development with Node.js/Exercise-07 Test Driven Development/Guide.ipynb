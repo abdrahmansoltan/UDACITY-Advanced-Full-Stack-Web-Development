{
 "cells": [
  {
   "cell_type": "markdown",
   "metadata": {
    "editable": true
   },
   "source": [
    "## Instructions\n",
    "\n",
    "This projects is already set up preconfigured with <b>TypeScript</b> and <b>Jasmine</b>. \n",
    "\n",
    "In the `index.ts` file in the src folder, you will see one complete function, and space to create 2 other functions. \n",
    "\n",
    "In the `indexSpec.ts` files in src, you will see 2 specs and a space to create 1 more. \n",
    "\n",
    "Your job is to look at the specs available, and write functions that pass on the `index.ts` file. Then, create the missing spec for the `getRegionCountries` function. \n",
    "\n",
    "This assignment uses <b>axios</b> to get data from the <b>restcountries.eu api</b>. If you are unfamiliar with axios, follow the structure of the function `getRegionCountries`. Make sure to visit one of the routes to see how the JSON data is supplied from the API. \n",
    "\n",
    "Make sure to run the test script when complete to ensure that the project builds and that all tests pass. View the `package.json` file to see available scripts.\n",
    "\n",
    "NOTE: a popup of \"Renderer Failure: tsconfig.json\" may open when starting this project. It is safe to ignore this error. Error is due to the comments in tsconfig.json not being considered valid JSON; however, it is generally considered safe to place comments in JSON config files."
   ]
  }
 ],
 "metadata": {
  "kernelspec": {
   "display_name": "Python 3",
   "language": "python",
   "name": "python3"
  },
  "language_info": {
   "codemirror_mode": {
    "name": "ipython",
    "version": 3
   },
   "file_extension": ".py",
   "mimetype": "text/x-python",
   "name": "python",
   "nbconvert_exporter": "python",
   "pygments_lexer": "ipython3",
   "version": "3.6.3"
  },
  "ulab_nb_type": "guided"
 },
 "nbformat": 4,
 "nbformat_minor": 4
}
