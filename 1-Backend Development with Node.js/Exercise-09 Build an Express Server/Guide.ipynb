{
 "cells": [
  {
   "cell_type": "markdown",
   "metadata": {
    "editable": true
   },
   "source": [
    "# Instructions\n",
    "\n",
    "1. Add Express to this node.js project\n",
    "2. create a server with an endpoint that directs to `/api`. \n",
    "3. Run your server and use the button below to open the browser.  You can test your endpoint by adding `/api` to the end of the page url.\n",
    "4. Once the server is working, stop it with `CTRL-c`. Compile the TypeScript using the `build` script and run the server from your build script. Test that the endpoint still works. \n",
    "\n"
   ]
  },
  {
   "cell_type": "markdown",
   "metadata": {
    "editable": true,
    "ulab": {
     "buttons": {
      "ulab-button-35e8fec2": {
       "bashCommand": "",
       "filesToOpen": [
        "src/index.ts"
       ],
       "isPreviewButton": true,
       "runInBackground": false,
       "style": "primary",
       "text": "View src in browser",
       "toggleOffText": "HIDE SOLUTION",
       "toggleOnText": "SHOW SOLUTION"
      },
      "ulab-button-80113e83": {
       "bashCommand": "",
       "filesToOpen": [
        "build/index.js"
       ],
       "isPreviewButton": true,
       "runInBackground": false,
       "style": "primary",
       "text": "View build in browser",
       "toggleOffText": "HIDE SOLUTION",
       "toggleOnText": "SHOW SOLUTION"
      }
     }
    }
   },
   "source": [
    "<button id=\"ulab-button-35e8fec2\" class=\"ulab-btn--primary\"></button><button id=\"ulab-button-80113e83\" class=\"ulab-btn--primary\"></button>"
   ]
  }
 ],
 "metadata": {
  "kernelspec": {
   "display_name": "Python 3",
   "language": "python",
   "name": "python3"
  },
  "language_info": {
   "codemirror_mode": {
    "name": "ipython",
    "version": 3
   },
   "file_extension": ".py",
   "mimetype": "text/x-python",
   "name": "python",
   "nbconvert_exporter": "python",
   "pygments_lexer": "ipython3",
   "version": "3.6.3"
  },
  "ulab_nb_type": "guided"
 },
 "nbformat": 4,
 "nbformat_minor": 4
}
