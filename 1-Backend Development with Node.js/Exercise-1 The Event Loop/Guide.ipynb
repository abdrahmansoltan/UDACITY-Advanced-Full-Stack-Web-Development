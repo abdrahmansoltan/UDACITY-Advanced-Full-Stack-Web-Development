{
 "cells": [
  {
   "cell_type": "markdown",
   "metadata": {
    "editable": true
   },
   "source": [
    "# Instructions\n",
    "\n",
    "In `index.js` you will see five `console.log` statements. Your goal is to have them log to the console in the order that they state without rearanging them. \n",
    "\n",
    "The output should look like this:\n",
    "```bash\n",
    "Print First\n",
    "Print Second\n",
    "Print Third\n",
    "Print Forth\n",
    "Print Fifth\n",
    "```\n",
    "Your solution should include one `console.log` left as is.\n",
    "\n",
    "The other statements should use globals available within node.js to run the `console.log` statement at the appropriate time in the event loop. \n",
    "\n",
    "There are multiple ways to accomplish this, but you must **use at least three different methods**.\n",
    "\n",
    "After you have written your code, run the `index.js` file using `node.js` to test your work. "
   ]
  }
 ],
 "metadata": {
  "kernelspec": {
   "display_name": "Python 3",
   "language": "python",
   "name": "python3"
  },
  "language_info": {
   "codemirror_mode": {
    "name": "ipython",
    "version": 3
   },
   "file_extension": ".py",
   "mimetype": "text/x-python",
   "name": "python",
   "nbconvert_exporter": "python",
   "pygments_lexer": "ipython3",
   "version": "3.6.3"
  },
  "ulab_nb_type": "guided"
 },
 "nbformat": 4,
 "nbformat_minor": 4
}
