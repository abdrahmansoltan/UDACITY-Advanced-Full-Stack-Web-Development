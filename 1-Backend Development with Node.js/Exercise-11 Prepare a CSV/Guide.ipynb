{
 "cells": [
  {
   "cell_type": "markdown",
   "metadata": {
    "editable": true
   },
   "source": [
    "# Instructions\n",
    "\n",
    "You will create an API that processes a CSV file (users.csv) and turns it into a JSON file upon visiting the endpoint /convert. Additionally, any phone number that is missing should be filled in with the string, \"missing data\".\n",
    "\n",
    "Use the [csvtojson](https://www.npmjs.com/package/csvtojson) node module as a library to do the conversion."
   ]
  },
  {
   "cell_type": "markdown",
   "metadata": {
    "editable": true,
    "ulab": {
     "buttons": {
      "ulab-button-b6671dc7": {
       "bashCommand": "",
       "filesToOpen": [
        "src/index.ts"
       ],
       "isPreviewButton": true,
       "runInBackground": false,
       "style": "primary",
       "text": "View src in browser",
       "toggleOffText": "HIDE SOLUTION",
       "toggleOnText": "SHOW SOLUTION"
      },
      "ulab-button-b6c7a15d": {
       "bashCommand": "",
       "filesToOpen": [
        "build/index.js"
       ],
       "isPreviewButton": true,
       "runInBackground": false,
       "style": "primary",
       "text": "View build in browser",
       "toggleOffText": "HIDE SOLUTION",
       "toggleOnText": "SHOW SOLUTION"
      }
     }
    }
   },
   "source": [
    "<button id=\"ulab-button-b6671dc7\" class=\"ulab-btn--primary\"></button><button id=\"ulab-button-b6c7a15d\" class=\"ulab-btn--primary\"></button>"
   ]
  },
  {
   "cell_type": "markdown",
   "metadata": {
    "editable": true
   },
   "source": [
    "NOTE: a popup of \"Renderer Failure: tsconfig.json\" may open when starting this project. It is safe to ignore this error. Error is due to the comments in tsconfig.json not being considered valid JSON; however, it is generally considered safe to place comments in JSON config files."
   ]
  }
 ],
 "metadata": {
  "kernelspec": {
   "display_name": "Python 3",
   "language": "python",
   "name": "python3"
  },
  "language_info": {
   "codemirror_mode": {
    "name": "ipython",
    "version": 3
   },
   "file_extension": ".py",
   "mimetype": "text/x-python",
   "name": "python",
   "nbconvert_exporter": "python",
   "pygments_lexer": "ipython3",
   "version": "3.6.3"
  },
  "ulab_nb_type": "guided"
 },
 "nbformat": 4,
 "nbformat_minor": 4
}
