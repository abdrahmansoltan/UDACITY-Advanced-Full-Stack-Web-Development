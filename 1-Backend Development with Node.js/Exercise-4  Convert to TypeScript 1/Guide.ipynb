{
 "cells": [
  {
   "cell_type": "markdown",
   "metadata": {
    "editable": true
   },
   "source": [
    "# Instructions\n",
    "\n",
    "Convert this JavaScript project to TypeScript. TypeScript is already installed and ready to go. \n",
    "\n",
    "The `index.ts` file is already created but contains no TypeScript yet. There are three other files in the `src/utilties` folder that need attention.\n",
    "- `string.js`\n",
    "- `numbers.js`\n",
    "- `arrays.js`\n",
    "\n",
    "Look at the `package.json` files to see the scripts available to run.\n",
    "\n",
    "You'll need to:\n",
    "- Convert the file extensions\n",
    "- Convert CommonJS modules to ES6 modules\n",
    "- Build the code to gather TypeScript errors\n",
    "- Explicitly type all functions\n",
    "- Fix any other issues\n",
    "\n",
    "***NOTE***: a popup of \"Renderer Failure: tsconfig.json\" will open when starting this project. It is safe to ignore this error. Error is due to the comments in tsconfig.json not being considered valid JSON; however, it is generally considered safe to place comments in JSON config files."
   ]
  }
 ],
 "metadata": {
  "kernelspec": {
   "display_name": "Python 3",
   "language": "python",
   "name": "python3"
  },
  "language_info": {
   "codemirror_mode": {
    "name": "ipython",
    "version": 3
   },
   "file_extension": ".py",
   "mimetype": "text/x-python",
   "name": "python",
   "nbconvert_exporter": "python",
   "pygments_lexer": "ipython3",
   "version": "3.6.3"
  },
  "ulab_nb_type": "guided"
 },
 "nbformat": 4,
 "nbformat_minor": 4
}
