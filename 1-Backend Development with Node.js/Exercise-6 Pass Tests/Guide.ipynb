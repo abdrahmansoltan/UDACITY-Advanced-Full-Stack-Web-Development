{
 "cells": [
  {
   "cell_type": "markdown",
   "metadata": {
    "editable": true
   },
   "source": [
    "## Instructions\n",
    "\n",
    "This project is already configured to work with TypeScript and Jasmine. \n",
    "\n",
    "Your task is to write at least one spec per function used on the `index.ts` file. \n",
    "- There should be at least 7 specs. \n",
    "- You must use at least 5 different matchers for your tests. \n",
    "- All of your specs can be on 1 spec file. \n",
    "\n",
    "Make sure to build your TypeScript project and make certain all of your tests pass. Check the `package.json` file to view scripts available.\n",
    "\n",
    "NOTE: a popup of \"Renderer Failure: tsconfig.json\" may open when starting this project. It is safe to ignore this error. Error is due to the comments in tsconfig.json not being considered valid JSON; however, it is generally considered safe to place comments in JSON config files."
   ]
  },
  {
   "cell_type": "markdown",
   "metadata": {
    "editable": true
   },
   "source": [
    "### Note:\n",
    "To initialize the Workspace, click the `SET UP WORKSPACE` button."
   ]
  },
  {
   "cell_type": "markdown",
   "metadata": {
    "editable": true,
    "ulab": {
     "buttons": {
      "ulab-button-7ad80d99": {
       "bashCommand": "source setup_bash.sh",
       "filesToOpen": [],
       "isPreviewButton": false,
       "runInBackground": false,
       "style": "primary",
       "text": "SET UP WORKSPACE",
       "toggleOffText": "HIDE SOLUTION",
       "toggleOnText": "SHOW SOLUTION"
      }
     }
    }
   },
   "source": [
    "<button id=\"ulab-button-7ad80d99\" class=\"ulab-btn--primary\"></button>"
   ]
  }
 ],
 "metadata": {
  "kernelspec": {
   "display_name": "Python 3",
   "language": "python",
   "name": "python3"
  },
  "language_info": {
   "codemirror_mode": {
    "name": "ipython",
    "version": 3
   },
   "file_extension": ".py",
   "mimetype": "text/x-python",
   "name": "python",
   "nbconvert_exporter": "python",
   "pygments_lexer": "ipython3",
   "version": "3.6.3"
  },
  "ulab_nb_type": "guided"
 },
 "nbformat": 4,
 "nbformat_minor": 4
}
