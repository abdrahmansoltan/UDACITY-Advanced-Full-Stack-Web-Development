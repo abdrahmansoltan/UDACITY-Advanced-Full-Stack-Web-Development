{
 "cells": [
  {
   "cell_type": "markdown",
   "metadata": {
    "editable": true
   },
   "source": [
    "## Instructions\n",
    "This exercise includes a preconfigured <b>Jasmine</b> and <b>TypeScript</b> project. The only file you should need to modify is `indexSpec.ts`. Available scripts can be found in `package.json`.\n",
    "\n",
    "Your job is to use the <b>setup/teardown</b> and organizational skills you have learned to better organize the specs. You should \n",
    "- Mimic the file structure of the src folder and create individual files for each module you are importing\n",
    "- Use **parent** and **child suites** to organize the specs so that it is clear what each pairing does and which utility it belongs to when viewing the results in the spec reporter.\n",
    "\n",
    "Once your specs are organized, use information from the **spec reporter** to track down the error that is causing one of the specs to fail and correct it.\n",
    "\n",
    "### Suggested Plan of Attack\n",
    "1. Create a `utilities` folder in `tests` and separate the specs onto their respective files to match the structure of the `src` folder.\n",
    "2. Organize each test pair into a suite with a description. Create parent suites and name accordingly for types of utilities. \n",
    "3 Place any data needed to run the tests into the appropriate describe blocks for scoping. \n",
    "4. Run the tests and locate the error.\n",
    "5. Fix the error in the appropriate file.\n",
    "6. Run tests again to ensure all tests pass.\n",
    "\n",
    "---\n",
    "NOTE: a popup of \"Renderer Failure: tsconfig.json\" may open when starting this project. It is safe to ignore this error. Error is due to the comments in tsconfig.json not being considered valid JSON; however, it is generally considered safe to place comments in JSON config files."
   ]
  }
 ],
 "metadata": {
  "kernelspec": {
   "display_name": "Python 3",
   "language": "python",
   "name": "python3"
  },
  "language_info": {
   "codemirror_mode": {
    "name": "ipython",
    "version": 3
   },
   "file_extension": ".py",
   "mimetype": "text/x-python",
   "name": "python",
   "nbconvert_exporter": "python",
   "pygments_lexer": "ipython3",
   "version": "3.6.3"
  },
  "ulab_nb_type": "guided"
 },
 "nbformat": 4,
 "nbformat_minor": 4
}
