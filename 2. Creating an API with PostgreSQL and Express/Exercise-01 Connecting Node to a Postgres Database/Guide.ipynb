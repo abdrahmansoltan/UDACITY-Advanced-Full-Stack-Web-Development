{
 "cells": [
  {
   "cell_type": "markdown",
   "metadata": {
    "editable": false
   },
   "source": [
    "## Exericse: Connecting Node to a Postgres Database\n",
    "\n",
    "### Instructions\n",
    "\n",
    "Starter Node Application\n",
    "\n",
    "Your turn! In this exercise you are given the same starter Node app we began with at the start of the lesson. This exercise is mostly to get you introduced to the Node application and database setup we will be using for the rest of the course exercises.\n",
    "\n",
    "**Database**: full_stack_dev  \n",
    "**Username**: full_stack_user  \n",
    "**Password**: password123  \n",
    "The database is running on `port 3001` in this environment.\n",
    "\n",
    "With this information, you should be able to create the database file in the Node app that will connect to the database. Remember to use environment variables - you'll have to install that library yourself!\n",
    "\n",
    "**Note** The udacity workspace system may treat the .env file as hidden. You can always find it in terminal with `ls -a`.\n",
    "\n",
    "\n",
    "## Setup\n",
    "To ready your environment follow these steps:\n",
    "In one terminal tab, create and run the database:\n",
    "\n",
    "- Switch to the postgres user `su postgres`\n",
    "- Start psql `psql postgres`\n",
    "- In psql run the following:\n",
    "        `CREATE USER full_stack_user WITH PASSWORD 'password123';`\n",
    "        `CREATE DATABASE full_stack_dev;`\n",
    "        `\\c full_stack_dev`\n",
    "        `GRANT ALL PRIVILEGES ON DATABASE full_stack_dev TO full_stack_user;`\n",
    "- To test that it is working run `\\dt` and it should output \"No relations found.\""
   ]
  },
  {
   "cell_type": "markdown",
   "metadata": {
    "editable": false
   },
   "source": [
    "<!--\n",
    "%%ulab_page_divider\n",
    "--><hr/>"
   ]
  },
  {
   "cell_type": "markdown",
   "metadata": {
    "editable": false,
    "ulab": {
     "buttons": {
      "ulab-button-a5df5e30": {
       "bashCommand": "",
       "filesToOpen": [],
       "isPreviewButton": false,
       "runInBackground": false,
       "style": "primary",
       "text": "Click the pen on top of this button for BASH",
       "toggleOffText": "HIDE SOLUTION",
       "toggleOnText": "SHOW SOLUTION"
      }
     }
    }
   },
   "source": [
    "<button id=\"ulab-button-a5df5e30\" class=\"ulab-btn--primary\"></button>"
   ]
  }
 ],
 "metadata": {
  "kernelspec": {
   "display_name": "Python 3",
   "language": "python",
   "name": "python3"
  },
  "language_info": {
   "codemirror_mode": {
    "name": "ipython",
    "version": 3
   },
   "file_extension": ".py",
   "mimetype": "text/x-python",
   "name": "python",
   "nbconvert_exporter": "python",
   "pygments_lexer": "ipython3",
   "version": "3.6.3"
  },
  "ulab_nb_type": "guided"
 },
 "nbformat": 4,
 "nbformat_minor": 4
}
